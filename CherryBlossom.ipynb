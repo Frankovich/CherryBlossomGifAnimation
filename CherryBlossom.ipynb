{
 "cells": [
  {
   "cell_type": "code",
   "execution_count": 42,
   "id": "78f2dbed-47a5-4ed5-95e6-546767a43cc7",
   "metadata": {},
   "outputs": [],
   "source": [
    "#I created this fun project to learn about animation in python, data analytics, and matplotlib. \n",
    "#Hopefully you find the data as cool as I do.\n",
    "\n",
    "#My conclusion is that since 1970 the Cherry Blossoms in Washington D.C. have been blooming\n",
    "#earlier every year and I hypothesize that this is due to Global Warming.\n",
    "\n",
    "#Will Frankovich\n",
    "#willf44@gmail.com\n",
    "\n",
    "#If you find any errors or any cool or unique improvements feel free to email me."
   ]
  },
  {
   "cell_type": "code",
   "execution_count": 52,
   "id": "1e3f6bf7-de1e-4f77-9ce2-8fba64e79c3a",
   "metadata": {},
   "outputs": [],
   "source": [
    "import os\n",
    "import numpy as np\n",
    "import matplotlib.pyplot as plt\n",
    "import imageio\n",
    "import csv\n",
    "import pandas as pd\n",
    "import warnings\n",
    "warnings.filterwarnings('ignore')"
   ]
  },
  {
   "cell_type": "code",
   "execution_count": 53,
   "id": "39b13db8-2259-4bbd-84c8-a61ae6e6a8b5",
   "metadata": {},
   "outputs": [],
   "source": [
    "df = pd.read_csv(\"cherry-blossoms_fig-1.csv\")\n",
    "x = df.iloc[:, 0].to_numpy()\n",
    "y = df.iloc[:, 1].to_numpy()\n",
    "df[ '7day_rolling_avg' ] = df.iloc[:, 1].rolling( 7).mean()\n",
    "mavg = df.iloc[:, 4]"
   ]
  },
  {
   "cell_type": "code",
   "execution_count": 54,
   "id": "dab73182-700b-4966-89be-b9f351c7de16",
   "metadata": {},
   "outputs": [],
   "source": [
    "filenames = []\n",
    "for i in range(len(y)):\n",
    "    fig = plt.figure()\n",
    "    \n",
    "    plt.plot(x[:i] ,y[:i], linewidth=3.0, label =\"Actual Date\")\n",
    "    plt.plot(x[:i], mavg[:i], '#FA6299', linewidth=3.0, label =\"7 Year Moving Average\") \n",
    "    fig.suptitle('Cherry Blossom peak bloom date by year', fontsize=15)\n",
    "    plt.xlabel('Year', fontsize=12)\n",
    "    plt.ylabel('Days since January 1st', fontsize=12)\n",
    "    plt.legend(loc='upper right')\n",
    "    ax1 = plt.axes()\n",
    "    ax1.set_facecolor(\"#3A3335\")\n",
    "    plt.grid(True)\n",
    "    fig.set_dpi(300)\n",
    "    \n",
    "    filename = f'{i}.png' \n",
    "    filenames.append(filename) #Add frame to list\n",
    "    \n",
    "    plt.savefig(filename) #Save frame to files\n",
    "    plt.close()\n",
    "    \n",
    "#Creates gif and adds to files using each frame\n",
    "with imageio.get_writer('CherryBlossom.gif', mode='I') as writer:\n",
    "    for filename in filenames:\n",
    "        image = imageio.imread(filename)\n",
    "        writer.append_data(image)\n",
    "        \n",
    "# Remove files\n",
    "for filename in set(filenames):\n",
    "    os.remove(filename)"
   ]
  },
  {
   "cell_type": "code",
   "execution_count": null,
   "id": "01427d71-f604-4f60-8386-aee4590f8f47",
   "metadata": {},
   "outputs": [],
   "source": []
  }
 ],
 "metadata": {
  "kernelspec": {
   "display_name": "Python 3",
   "language": "python",
   "name": "python3"
  },
  "language_info": {
   "codemirror_mode": {
    "name": "ipython",
    "version": 3
   },
   "file_extension": ".py",
   "mimetype": "text/x-python",
   "name": "python",
   "nbconvert_exporter": "python",
   "pygments_lexer": "ipython3",
   "version": "3.8.8"
  }
 },
 "nbformat": 4,
 "nbformat_minor": 5
}
